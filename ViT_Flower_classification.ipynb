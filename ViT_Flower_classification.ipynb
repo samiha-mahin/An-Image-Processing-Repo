{
  "nbformat": 4,
  "nbformat_minor": 0,
  "metadata": {
    "colab": {
      "provenance": [],
      "authorship_tag": "ABX9TyN86FwwXU2a9lIoAVzmQGbn",
      "include_colab_link": true
    },
    "kernelspec": {
      "name": "python3",
      "display_name": "Python 3"
    },
    "language_info": {
      "name": "python"
    }
  },
  "cells": [
    {
      "cell_type": "markdown",
      "metadata": {
        "id": "view-in-github",
        "colab_type": "text"
      },
      "source": [
        "<a href=\"https://colab.research.google.com/github/samiha-mahin/An-Image-Processing-Repo/blob/main/ViT_Flower_classification.ipynb\" target=\"_parent\"><img src=\"https://colab.research.google.com/assets/colab-badge.svg\" alt=\"Open In Colab\"/></a>"
      ]
    },
    {
      "cell_type": "code",
      "execution_count": null,
      "metadata": {
        "colab": {
          "base_uri": "https://localhost:8080/"
        },
        "id": "V6RMHS-YMG7o",
        "outputId": "571330b1-36e5-40b3-a20b-1fde2fa5bb88"
      },
      "outputs": [
        {
          "output_type": "stream",
          "name": "stdout",
          "text": [
            "Requirement already satisfied: kaggle in /usr/local/lib/python3.12/dist-packages (1.7.4.5)\n",
            "Requirement already satisfied: bleach in /usr/local/lib/python3.12/dist-packages (from kaggle) (6.2.0)\n",
            "Requirement already satisfied: certifi>=14.05.14 in /usr/local/lib/python3.12/dist-packages (from kaggle) (2025.8.3)\n",
            "Requirement already satisfied: charset-normalizer in /usr/local/lib/python3.12/dist-packages (from kaggle) (3.4.3)\n",
            "Requirement already satisfied: idna in /usr/local/lib/python3.12/dist-packages (from kaggle) (3.10)\n",
            "Requirement already satisfied: protobuf in /usr/local/lib/python3.12/dist-packages (from kaggle) (5.29.5)\n",
            "Requirement already satisfied: python-dateutil>=2.5.3 in /usr/local/lib/python3.12/dist-packages (from kaggle) (2.9.0.post0)\n",
            "Requirement already satisfied: python-slugify in /usr/local/lib/python3.12/dist-packages (from kaggle) (8.0.4)\n",
            "Requirement already satisfied: requests in /usr/local/lib/python3.12/dist-packages (from kaggle) (2.32.4)\n",
            "Requirement already satisfied: setuptools>=21.0.0 in /usr/local/lib/python3.12/dist-packages (from kaggle) (75.2.0)\n",
            "Requirement already satisfied: six>=1.10 in /usr/local/lib/python3.12/dist-packages (from kaggle) (1.17.0)\n",
            "Requirement already satisfied: text-unidecode in /usr/local/lib/python3.12/dist-packages (from kaggle) (1.3)\n",
            "Requirement already satisfied: tqdm in /usr/local/lib/python3.12/dist-packages (from kaggle) (4.67.1)\n",
            "Requirement already satisfied: urllib3>=1.15.1 in /usr/local/lib/python3.12/dist-packages (from kaggle) (2.5.0)\n",
            "Requirement already satisfied: webencodings in /usr/local/lib/python3.12/dist-packages (from kaggle) (0.5.1)\n"
          ]
        }
      ],
      "source": [
        "!pip install kaggle"
      ]
    },
    {
      "cell_type": "code",
      "source": [
        "from google.colab import files\n",
        "files.upload()"
      ],
      "metadata": {
        "colab": {
          "base_uri": "https://localhost:8080/",
          "height": 90
        },
        "id": "cc6H8-iosg4f",
        "outputId": "128f6bdc-11f1-4e9f-817a-a03be8e19f1b"
      },
      "execution_count": null,
      "outputs": [
        {
          "output_type": "display_data",
          "data": {
            "text/plain": [
              "<IPython.core.display.HTML object>"
            ],
            "text/html": [
              "\n",
              "     <input type=\"file\" id=\"files-85ab3977-8c3b-40d3-9e5e-a02dd23edad7\" name=\"files[]\" multiple disabled\n",
              "        style=\"border:none\" />\n",
              "     <output id=\"result-85ab3977-8c3b-40d3-9e5e-a02dd23edad7\">\n",
              "      Upload widget is only available when the cell has been executed in the\n",
              "      current browser session. Please rerun this cell to enable.\n",
              "      </output>\n",
              "      <script>// Copyright 2017 Google LLC\n",
              "//\n",
              "// Licensed under the Apache License, Version 2.0 (the \"License\");\n",
              "// you may not use this file except in compliance with the License.\n",
              "// You may obtain a copy of the License at\n",
              "//\n",
              "//      http://www.apache.org/licenses/LICENSE-2.0\n",
              "//\n",
              "// Unless required by applicable law or agreed to in writing, software\n",
              "// distributed under the License is distributed on an \"AS IS\" BASIS,\n",
              "// WITHOUT WARRANTIES OR CONDITIONS OF ANY KIND, either express or implied.\n",
              "// See the License for the specific language governing permissions and\n",
              "// limitations under the License.\n",
              "\n",
              "/**\n",
              " * @fileoverview Helpers for google.colab Python module.\n",
              " */\n",
              "(function(scope) {\n",
              "function span(text, styleAttributes = {}) {\n",
              "  const element = document.createElement('span');\n",
              "  element.textContent = text;\n",
              "  for (const key of Object.keys(styleAttributes)) {\n",
              "    element.style[key] = styleAttributes[key];\n",
              "  }\n",
              "  return element;\n",
              "}\n",
              "\n",
              "// Max number of bytes which will be uploaded at a time.\n",
              "const MAX_PAYLOAD_SIZE = 100 * 1024;\n",
              "\n",
              "function _uploadFiles(inputId, outputId) {\n",
              "  const steps = uploadFilesStep(inputId, outputId);\n",
              "  const outputElement = document.getElementById(outputId);\n",
              "  // Cache steps on the outputElement to make it available for the next call\n",
              "  // to uploadFilesContinue from Python.\n",
              "  outputElement.steps = steps;\n",
              "\n",
              "  return _uploadFilesContinue(outputId);\n",
              "}\n",
              "\n",
              "// This is roughly an async generator (not supported in the browser yet),\n",
              "// where there are multiple asynchronous steps and the Python side is going\n",
              "// to poll for completion of each step.\n",
              "// This uses a Promise to block the python side on completion of each step,\n",
              "// then passes the result of the previous step as the input to the next step.\n",
              "function _uploadFilesContinue(outputId) {\n",
              "  const outputElement = document.getElementById(outputId);\n",
              "  const steps = outputElement.steps;\n",
              "\n",
              "  const next = steps.next(outputElement.lastPromiseValue);\n",
              "  return Promise.resolve(next.value.promise).then((value) => {\n",
              "    // Cache the last promise value to make it available to the next\n",
              "    // step of the generator.\n",
              "    outputElement.lastPromiseValue = value;\n",
              "    return next.value.response;\n",
              "  });\n",
              "}\n",
              "\n",
              "/**\n",
              " * Generator function which is called between each async step of the upload\n",
              " * process.\n",
              " * @param {string} inputId Element ID of the input file picker element.\n",
              " * @param {string} outputId Element ID of the output display.\n",
              " * @return {!Iterable<!Object>} Iterable of next steps.\n",
              " */\n",
              "function* uploadFilesStep(inputId, outputId) {\n",
              "  const inputElement = document.getElementById(inputId);\n",
              "  inputElement.disabled = false;\n",
              "\n",
              "  const outputElement = document.getElementById(outputId);\n",
              "  outputElement.innerHTML = '';\n",
              "\n",
              "  const pickedPromise = new Promise((resolve) => {\n",
              "    inputElement.addEventListener('change', (e) => {\n",
              "      resolve(e.target.files);\n",
              "    });\n",
              "  });\n",
              "\n",
              "  const cancel = document.createElement('button');\n",
              "  inputElement.parentElement.appendChild(cancel);\n",
              "  cancel.textContent = 'Cancel upload';\n",
              "  const cancelPromise = new Promise((resolve) => {\n",
              "    cancel.onclick = () => {\n",
              "      resolve(null);\n",
              "    };\n",
              "  });\n",
              "\n",
              "  // Wait for the user to pick the files.\n",
              "  const files = yield {\n",
              "    promise: Promise.race([pickedPromise, cancelPromise]),\n",
              "    response: {\n",
              "      action: 'starting',\n",
              "    }\n",
              "  };\n",
              "\n",
              "  cancel.remove();\n",
              "\n",
              "  // Disable the input element since further picks are not allowed.\n",
              "  inputElement.disabled = true;\n",
              "\n",
              "  if (!files) {\n",
              "    return {\n",
              "      response: {\n",
              "        action: 'complete',\n",
              "      }\n",
              "    };\n",
              "  }\n",
              "\n",
              "  for (const file of files) {\n",
              "    const li = document.createElement('li');\n",
              "    li.append(span(file.name, {fontWeight: 'bold'}));\n",
              "    li.append(span(\n",
              "        `(${file.type || 'n/a'}) - ${file.size} bytes, ` +\n",
              "        `last modified: ${\n",
              "            file.lastModifiedDate ? file.lastModifiedDate.toLocaleDateString() :\n",
              "                                    'n/a'} - `));\n",
              "    const percent = span('0% done');\n",
              "    li.appendChild(percent);\n",
              "\n",
              "    outputElement.appendChild(li);\n",
              "\n",
              "    const fileDataPromise = new Promise((resolve) => {\n",
              "      const reader = new FileReader();\n",
              "      reader.onload = (e) => {\n",
              "        resolve(e.target.result);\n",
              "      };\n",
              "      reader.readAsArrayBuffer(file);\n",
              "    });\n",
              "    // Wait for the data to be ready.\n",
              "    let fileData = yield {\n",
              "      promise: fileDataPromise,\n",
              "      response: {\n",
              "        action: 'continue',\n",
              "      }\n",
              "    };\n",
              "\n",
              "    // Use a chunked sending to avoid message size limits. See b/62115660.\n",
              "    let position = 0;\n",
              "    do {\n",
              "      const length = Math.min(fileData.byteLength - position, MAX_PAYLOAD_SIZE);\n",
              "      const chunk = new Uint8Array(fileData, position, length);\n",
              "      position += length;\n",
              "\n",
              "      const base64 = btoa(String.fromCharCode.apply(null, chunk));\n",
              "      yield {\n",
              "        response: {\n",
              "          action: 'append',\n",
              "          file: file.name,\n",
              "          data: base64,\n",
              "        },\n",
              "      };\n",
              "\n",
              "      let percentDone = fileData.byteLength === 0 ?\n",
              "          100 :\n",
              "          Math.round((position / fileData.byteLength) * 100);\n",
              "      percent.textContent = `${percentDone}% done`;\n",
              "\n",
              "    } while (position < fileData.byteLength);\n",
              "  }\n",
              "\n",
              "  // All done.\n",
              "  yield {\n",
              "    response: {\n",
              "      action: 'complete',\n",
              "    }\n",
              "  };\n",
              "}\n",
              "\n",
              "scope.google = scope.google || {};\n",
              "scope.google.colab = scope.google.colab || {};\n",
              "scope.google.colab._files = {\n",
              "  _uploadFiles,\n",
              "  _uploadFilesContinue,\n",
              "};\n",
              "})(self);\n",
              "</script> "
            ]
          },
          "metadata": {}
        },
        {
          "output_type": "stream",
          "name": "stdout",
          "text": [
            "Saving kaggle.json to kaggle.json\n"
          ]
        },
        {
          "output_type": "execute_result",
          "data": {
            "text/plain": [
              "{'kaggle.json': b'{\"username\":\"samihamuntahamahin\",\"key\":\"3b6d29c9556db74812f31ee98a90662f\"}'}"
            ]
          },
          "metadata": {},
          "execution_count": 2
        }
      ]
    },
    {
      "cell_type": "code",
      "source": [
        "!mkdir -p ~/.kaggle\n",
        "!mv kaggle.json ~/.kaggle/\n",
        "!chmod 600 ~/.kaggle/kaggle.json"
      ],
      "metadata": {
        "id": "3zr6G7yFskii"
      },
      "execution_count": null,
      "outputs": []
    },
    {
      "cell_type": "code",
      "source": [
        "!kaggle datasets download alsaniipe/flowers-dataset -p ./data --unzip"
      ],
      "metadata": {
        "colab": {
          "base_uri": "https://localhost:8080/"
        },
        "id": "mmJ1z_DVsreg",
        "outputId": "218e1cff-d730-4cc9-980a-03a3c03d005d"
      },
      "execution_count": null,
      "outputs": [
        {
          "output_type": "stream",
          "name": "stdout",
          "text": [
            "Dataset URL: https://www.kaggle.com/datasets/alsaniipe/flowers-dataset\n",
            "License(s): CC0-1.0\n",
            "Downloading flowers-dataset.zip to ./data\n",
            "  0% 0.00/60.5M [00:00<?, ?B/s]\n",
            "100% 60.5M/60.5M [00:00<00:00, 1.11GB/s]\n"
          ]
        }
      ]
    },
    {
      "cell_type": "code",
      "source": [
        "train_dir = \"/content/data/train\""
      ],
      "metadata": {
        "id": "t7uiIB9-tAMP"
      },
      "execution_count": null,
      "outputs": []
    },
    {
      "cell_type": "code",
      "source": [
        "import os\n",
        "import pandas as pd\n",
        "import matplotlib.pyplot as plt\n",
        "import seaborn as sns\n",
        "\n",
        "\n",
        "df = pd.DataFrame([(cls, len(os.listdir(os.path.join(train_dir, cls))))\n",
        "                   for cls in os.listdir(train_dir)], columns=[\"label\", \"count\"])\n",
        "\n",
        "\n",
        "custom_colors = [\"#FF69B4\", \"#FFB6C1\", \"#FF1493\", \"#FFC0CB\", \"#DB7093\"]\n",
        "\n",
        "# Bar chart\n",
        "plt.figure(figsize=(10, 8))\n",
        "sns.barplot(x=\"label\", y=\"count\", data=df, palette=custom_colors)\n",
        "plt.xticks(rotation=45)\n",
        "plt.title(\"Images per Class\", fontsize=14)\n",
        "plt.xlabel(\"Class\")\n",
        "plt.ylabel(\"Number of Images\")\n",
        "plt.show()\n",
        "\n",
        "# Pie chart\n",
        "df.set_index(\"label\")[\"count\"].plot(kind=\"pie\", autopct=\"%1.1f%%\",\n",
        "                                    startangle=140, figsize=(6,6),\n",
        "                                    colors=custom_colors)\n",
        "plt.title(\"Class Distribution\")\n",
        "plt.ylabel(\"\")\n",
        "plt.show()\n"
      ],
      "metadata": {
        "colab": {
          "base_uri": "https://localhost:8080/",
          "height": 1000
        },
        "id": "XDq5WCWBtNHC",
        "outputId": "011c068b-544e-400e-e9fd-c629df7f9127"
      },
      "execution_count": null,
      "outputs": [
        {
          "output_type": "stream",
          "name": "stderr",
          "text": [
            "/tmp/ipython-input-2751832124.py:15: FutureWarning: \n",
            "\n",
            "Passing `palette` without assigning `hue` is deprecated and will be removed in v0.14.0. Assign the `x` variable to `hue` and set `legend=False` for the same effect.\n",
            "\n",
            "  sns.barplot(x=\"label\", y=\"count\", data=df, palette=custom_colors)\n",
            "/tmp/ipython-input-2751832124.py:15: UserWarning: The palette list has more values (5) than needed (2), which may not be intended.\n",
            "  sns.barplot(x=\"label\", y=\"count\", data=df, palette=custom_colors)\n"
          ]
        },
        {
          "output_type": "display_data",
          "data": {
            "text/plain": [
              "<Figure size 1000x800 with 1 Axes>"
            ],
            "image/png": "[encoded data removed]"
          },
          "metadata": {}
        },
        {
          "output_type": "display_data",
          "data": {
            "text/plain": [
              "<Figure size 600x600 with 1 Axes>"
            ],
            "image/png": "[encoded data removed]"
          },
          "metadata": {}
        }
      ]
    },
    {
      "cell_type": "code",
      "source": [
        "from sklearn.preprocessing import LabelEncoder\n",
        "from imblearn.over_sampling import RandomOverSampler\n",
        "import os\n",
        "\n",
        "#Encoding the labels into the numbers\n",
        "encoder = LabelEncoder()\n",
        "df[\"Label_num\"] = encoder.fit_transform(df[\"label\"])\n",
        "\n",
        "# Create a list of image paths and their corresponding labels\n",
        "image_paths = []\n",
        "labels_num = []\n",
        "for cls in os.listdir(train_dir):\n",
        "    cls_path = os.path.join(train_dir, cls)\n",
        "    for img_name in os.listdir(cls_path):\n",
        "        image_paths.append(os.path.join(cls_path, img_name))\n",
        "        labels_num.append(encoder.transform([cls])[0])\n",
        "\n",
        "# Create a DataFrame with image paths and numerical labels\n",
        "image_df = pd.DataFrame({\"image_path\": image_paths, \"label_num\": labels_num})\n",
        "\n",
        "#Oversample to balance classes\n",
        "ros = RandomOverSampler(random_state=42)\n",
        "X, y = ros.fit_resample(image_df[[\"image_path\"]], image_df[\"label_num\"])\n",
        "\n",
        "#Creating the new balanced dataFrame\n",
        "df_balanced = pd.DataFrame({\"image_path\":X[\"image_path\"] , \"label_num\":y})\n",
        "\n",
        "print(\"\\nBalanced class counts:\")\n",
        "print(df_balanced[\"label_num\"].value_counts())"
      ],
      "metadata": {
        "colab": {
          "base_uri": "https://localhost:8080/"
        },
        "id": "vkWN6YAotTfX",
        "outputId": "5de9c271-a04c-48e1-baaa-417e6ec76f74"
      },
      "execution_count": null,
      "outputs": [
        {
          "output_type": "stream",
          "name": "stdout",
          "text": [
            "\n",
            "Balanced class counts:\n",
            "label_num\n",
            "1    746\n",
            "0    746\n",
            "Name: count, dtype: int64\n"
          ]
        }
      ]
    },
    {
      "cell_type": "code",
      "source": [
        "# Convert label_num back to integer for convenience\n",
        "df_balanced['label_num'] = df_balanced['label_num'].astype(str)\n",
        "\n",
        "# Function to sample fixed number of images per class\n",
        "def sample_per_class(df, n):\n",
        "    return df.groupby('label_num').sample(n=n, random_state=42)\n",
        "\n",
        "# Sample 300 images per class for training\n",
        "train_df = sample_per_class(df_balanced, 300)\n",
        "\n",
        "# Remove training samples from df_balanced to avoid overlap\n",
        "remaining_df = df_balanced.drop(train_df.index)\n",
        "\n",
        "# Sample 100 images per class for validation\n",
        "valid_df = sample_per_class(remaining_df, 100)\n",
        "\n",
        "# Remove validation samples to get test set\n",
        "remaining_df = remaining_df.drop(valid_df.index)\n",
        "\n",
        "# Sample 100 images per class for testing\n",
        "test_df = sample_per_class(remaining_df, 100)\n",
        "\n",
        "# Check new sizes\n",
        "print(\"Train size:\", train_df.shape)\n",
        "print(\"Validation size:\", valid_df.shape)\n",
        "print(\"Test size:\", test_df.shape)\n",
        "\n",
        "# Optional: check class distribution\n",
        "print(train_df['label_num'].value_counts())\n",
        "print(valid_df['label_num'].value_counts())\n",
        "print(test_df['label_num'].value_counts())"
      ],
      "metadata": {
        "colab": {
          "base_uri": "https://localhost:8080/"
        },
        "id": "WLhBuQrgtbes",
        "outputId": "e1374f9d-e04e-45c6-8e5e-7b0d33225940"
      },
      "execution_count": null,
      "outputs": [
        {
          "output_type": "stream",
          "name": "stdout",
          "text": [
            "Train size: (600, 2)\n",
            "Validation size: (200, 2)\n",
            "Test size: (200, 2)\n",
            "label_num\n",
            "0    300\n",
            "1    300\n",
            "Name: count, dtype: int64\n",
            "label_num\n",
            "0    100\n",
            "1    100\n",
            "Name: count, dtype: int64\n",
            "label_num\n",
            "0    100\n",
            "1    100\n",
            "Name: count, dtype: int64\n"
          ]
        }
      ]
    },
    {
      "cell_type": "code",
      "source": [
        "import os\n",
        "import random\n",
        "import numpy as np\n",
        "import torch\n",
        "from torch import nn\n",
        "from torch.utils.data import Dataset, DataLoader\n",
        "from torchvision import transforms, datasets, models\n",
        "from PIL import Image\n",
        "\n",
        "# Reproducibility\n",
        "def set_seeds(seed: int = 42):\n",
        "    random.seed(seed)\n",
        "    np.random.seed(seed)\n",
        "    torch.manual_seed(seed)\n",
        "    if torch.cuda.is_available():\n",
        "        torch.cuda.manual_seed(seed)\n",
        "        torch.cuda.manual_seed_all(seed)\n",
        "    torch.backends.cudnn.deterministic = True\n",
        "    torch.backends.cudnn.benchmark = False\n",
        "\n",
        "device = \"cuda\" if torch.cuda.is_available() else \"cpu\"\n",
        "print(\"Device:\", device)\n"
      ],
      "metadata": {
        "colab": {
          "base_uri": "https://localhost:8080/"
        },
        "id": "0peea2pA5mmf",
        "outputId": "a9487a70-0b67-45be-bdfe-89d160e2682d"
      },
      "execution_count": null,
      "outputs": [
        {
          "output_type": "stream",
          "name": "stdout",
          "text": [
            "Device: cpu\n"
          ]
        }
      ]
    },
    {
      "cell_type": "code",
      "source": [
        "class FlowersDataset(Dataset):\n",
        "    def __init__(self, df, transform=None):\n",
        "        self.df = df\n",
        "        self.transform = transform\n",
        "\n",
        "    def __len__(self):\n",
        "        return len(self.df)\n",
        "\n",
        "    def __getitem__(self, idx):\n",
        "        img_path = self.df.iloc[idx][\"image_path\"]\n",
        "        label = int(self.df.iloc[idx][\"label_num\"])\n",
        "        image = Image.open(img_path).convert(\"RGB\")\n",
        "        if self.transform:\n",
        "            image = self.transform(image)\n",
        "        return image, label\n"
      ],
      "metadata": {
        "id": "NctHY0NT5pyp"
      },
      "execution_count": null,
      "outputs": []
    },
    {
      "cell_type": "code",
      "source": [
        "import torchvision\n",
        "\n",
        "pretrained_vit_weights = torchvision.models.ViT_B_16_Weights.DEFAULT\n",
        "pretrained_vit_transforms = pretrained_vit_weights.transforms()\n",
        "\n",
        "print(pretrained_vit_transforms)\n"
      ],
      "metadata": {
        "colab": {
          "base_uri": "https://localhost:8080/"
        },
        "id": "kz3mKh2m5trz",
        "outputId": "37106ecc-df7d-418b-d637-9033827cf785"
      },
      "execution_count": null,
      "outputs": [
        {
          "output_type": "stream",
          "name": "stdout",
          "text": [
            "ImageClassification(\n",
            "    crop_size=[224]\n",
            "    resize_size=[256]\n",
            "    mean=[0.485, 0.456, 0.406]\n",
            "    std=[0.229, 0.224, 0.225]\n",
            "    interpolation=InterpolationMode.BILINEAR\n",
            ")\n"
          ]
        }
      ]
    },
    {
      "cell_type": "code",
      "source": [
        "NUM_WORKERS = os.cpu_count()\n",
        "BATCH_SIZE = 16  # smaller batch size for faster training\n",
        "\n",
        "train_dataset = FlowersDataset(train_df, transform=pretrained_vit_transforms)\n",
        "valid_dataset = FlowersDataset(valid_df, transform=pretrained_vit_transforms)\n",
        "test_dataset  = FlowersDataset(test_df, transform=pretrained_vit_transforms)\n",
        "\n",
        "train_loader = DataLoader(train_dataset, batch_size=BATCH_SIZE, shuffle=True, num_workers=NUM_WORKERS)\n",
        "valid_loader = DataLoader(valid_dataset, batch_size=BATCH_SIZE, shuffle=False, num_workers=NUM_WORKERS)\n",
        "test_loader  = DataLoader(test_dataset, batch_size=BATCH_SIZE, shuffle=False, num_workers=NUM_WORKERS)\n"
      ],
      "metadata": {
        "id": "oJzuCtFL5toQ"
      },
      "execution_count": null,
      "outputs": []
    },
    {
      "cell_type": "code",
      "source": [
        "vit_model = torchvision.models.vit_b_16(weights=pretrained_vit_weights).to(device)\n",
        "\n",
        "# Freeze base parameters\n",
        "for param in vit_model.parameters():\n",
        "    param.requires_grad = False\n",
        "\n",
        "# Update classifier head\n",
        "num_classes = len(df_balanced['label_num'].unique())\n",
        "vit_model.heads = nn.Linear(in_features=768, out_features=num_classes).to(device)\n",
        "\n",
        "optimizer = torch.optim.Adam(vit_model.parameters(), lr=1e-3)\n",
        "loss_fn = nn.CrossEntropyLoss()\n"
      ],
      "metadata": {
        "id": "miARpwP_50xD"
      },
      "execution_count": null,
      "outputs": []
    },
    {
      "cell_type": "code",
      "source": [
        "from tqdm import tqdm\n",
        "\n",
        "def train_model(model, train_loader, valid_loader, loss_fn, optimizer, epochs, device, print_batch_loss=True):\n",
        "    history = {\"train_loss\": [], \"valid_loss\": [], \"train_acc\": [], \"valid_acc\": []}\n",
        "\n",
        "    for epoch in range(epochs):\n",
        "        model.train()\n",
        "        train_loss = 0\n",
        "        correct_train = 0\n",
        "        total_train = 0\n",
        "\n",
        "        loop = tqdm(enumerate(train_loader), total=len(train_loader), desc=f\"Epoch {epoch+1}/{epochs}\", leave=False)\n",
        "        for batch_idx, (imgs, labels) in loop:\n",
        "            imgs, labels = imgs.to(device), labels.to(device)\n",
        "            optimizer.zero_grad()\n",
        "            outputs = model(imgs)\n",
        "            loss = loss_fn(outputs, labels)\n",
        "            loss.backward()\n",
        "            optimizer.step()\n",
        "\n",
        "            train_loss += loss.item() * imgs.size(0)\n",
        "            _, preds = torch.max(outputs, 1)\n",
        "            correct_train += (preds == labels).sum().item()\n",
        "            total_train += labels.size(0)\n",
        "\n",
        "            if print_batch_loss and batch_idx % 10 == 0:\n",
        "                loop.set_postfix({\"Batch Loss\": f\"{loss.item():.4f}\"})\n",
        "\n",
        "        train_loss /= len(train_loader.dataset)\n",
        "        train_acc = correct_train / total_train\n",
        "\n",
        "        # Validation\n",
        "        model.eval()\n",
        "        valid_loss = 0\n",
        "        correct_valid = 0\n",
        "        total_valid = 0\n",
        "        with torch.no_grad():\n",
        "            for imgs, labels in valid_loader:\n",
        "                imgs, labels = imgs.to(device), labels.to(device)\n",
        "                outputs = model(imgs)\n",
        "                loss = loss_fn(outputs, labels)\n",
        "                valid_loss += loss.item() * imgs.size(0)\n",
        "\n",
        "                _, preds = torch.max(outputs, 1)\n",
        "                correct_valid += (preds == labels).sum().item()\n",
        "                total_valid += labels.size(0)\n",
        "\n",
        "        valid_loss /= len(valid_loader.dataset)\n",
        "        valid_acc = correct_valid / total_valid\n",
        "\n",
        "        print(f\"Epoch {epoch+1}/{epochs} - \"\n",
        "              f\"Train Loss: {train_loss:.4f} - Train Acc: {train_acc:.4f} - \"\n",
        "              f\"Valid Loss: {valid_loss:.4f} - Valid Acc: {valid_acc:.4f}\")\n",
        "\n",
        "        history[\"train_loss\"].append(train_loss)\n",
        "        history[\"valid_loss\"].append(valid_loss)\n",
        "        history[\"train_acc\"].append(train_acc)\n",
        "        history[\"valid_acc\"].append(valid_acc)\n",
        "\n",
        "    return history\n"
      ],
      "metadata": {
        "id": "V4dkeNpZ58n_"
      },
      "execution_count": null,
      "outputs": []
    },
    {
      "cell_type": "code",
      "source": [
        "set_seeds()\n",
        "history = train_model(\n",
        "    model=vit_model,\n",
        "    train_loader=train_loader,\n",
        "    valid_loader=valid_loader,\n",
        "    loss_fn=loss_fn,\n",
        "    optimizer=optimizer,\n",
        "    epochs=1,\n",
        "    device=device\n",
        ")\n"
      ],
      "metadata": {
        "colab": {
          "base_uri": "https://localhost:8080/"
        },
        "id": "ROjs9X-B5__J",
        "outputId": "ea148476-f7eb-4e9c-d690-e4694010a5e8"
      },
      "execution_count": 57,
      "outputs": [
        {
          "output_type": "stream",
          "name": "stderr",
          "text": []
        },
        {
          "output_type": "stream",
          "name": "stdout",
          "text": [
            "Epoch 1/1 - Train Loss: 0.1286 - Train Acc: 0.9550 - Valid Loss: 0.1058 - Valid Acc: 0.9550\n"
          ]
        }
      ]
    },
    {
      "cell_type": "code",
      "source": [
        "# Assuming `history` is returned from train_model\n",
        "final_train_acc = history[\"train_acc\"][-1]\n",
        "final_valid_acc = history[\"valid_acc\"][-1]\n",
        "\n",
        "print(f\"Final Training Accuracy: {final_train_acc*100:.2f}%\")\n",
        "print(f\"Final Validation Accuracy: {final_valid_acc*100:.2f}%\")\n"
      ],
      "metadata": {
        "id": "FzyYl4tr73m-",
        "colab": {
          "base_uri": "https://localhost:8080/"
        },
        "outputId": "29d08dca-b1fd-45e8-cbda-cd8c4fa4c3de"
      },
      "execution_count": 58,
      "outputs": [
        {
          "output_type": "stream",
          "name": "stdout",
          "text": [
            "Final Training Accuracy: 95.50%\n",
            "Final Validation Accuracy: 95.50%\n"
          ]
        }
      ]
    },
    {
      "cell_type": "code",
      "source": [
        "import matplotlib.pyplot as plt\n",
        "\n",
        "plt.figure(figsize=(10,6))\n",
        "plt.plot(history[\"train_loss\"], label=\"Train Loss\")\n",
        "plt.plot(history[\"valid_loss\"], label=\"Validation Loss\")\n",
        "plt.xlabel(\"Epochs\")\n",
        "plt.ylabel(\"Loss\")\n",
        "plt.title(\"Training & Validation Loss\")\n",
        "plt.legend()\n",
        "plt.show()\n"
      ],
      "metadata": {
        "id": "maJrba823toq"
      },
      "execution_count": null,
      "outputs": []
    },
    {
      "cell_type": "code",
      "source": [
        "from sklearn.metrics import confusion_matrix, ConfusionMatrixDisplay\n",
        "\n",
        "vit_model.eval()\n",
        "all_preds = []\n",
        "all_labels = []\n",
        "\n",
        "with torch.no_grad():\n",
        "    for imgs, labels in test_loader:\n",
        "        imgs, labels = imgs.to(device), labels.to(device)\n",
        "        outputs = vit_model(imgs)\n",
        "        preds = torch.argmax(outputs, dim=1)\n",
        "        all_preds.extend(preds.cpu().numpy())\n",
        "        all_labels.extend(labels.cpu().numpy())\n"
      ],
      "metadata": {
        "id": "uHTAH4ny3x2T"
      },
      "execution_count": 60,
      "outputs": []
    },
    {
      "cell_type": "code",
      "source": [
        "from sklearn.metrics import confusion_matrix, ConfusionMatrixDisplay, classification_report\n",
        "\n",
        "# Create confusion matrix\n",
        "cm = confusion_matrix(all_labels, all_preds)\n",
        "\n",
        "# Get class names\n",
        "class_names = [str(i) for i in range(num_classes)]  # or encoder.classes_ if you want original labels\n",
        "\n",
        "# Display confusion matrix\n",
        "disp = ConfusionMatrixDisplay(confusion_matrix=cm, display_labels=class_names)\n",
        "plt.figure(figsize=(12,12))\n",
        "disp.plot(cmap=plt.cm.Blues, xticks_rotation='vertical')\n",
        "plt.title(\"Confusion Matrix - Test Set\")\n",
        "plt.show()\n",
        "\n",
        "# Print classification report\n",
        "print(\"Classification Report:\\n\")\n",
        "print(classification_report(all_labels, all_preds, target_names=class_names))\n"
      ],
      "metadata": {
        "id": "rkFYWPiv31Io",
        "colab": {
          "base_uri": "https://localhost:8080/",
          "height": 675
        },
        "outputId": "010d3a11-0ea0-4dd5-bcbd-0a13e61dc4d3"
      },
      "execution_count": 62,
      "outputs": [
        {
          "output_type": "display_data",
          "data": {
            "text/plain": [
              "<Figure size 1200x1200 with 0 Axes>"
            ]
          },
          "metadata": {}
        },
        {
          "output_type": "display_data",
          "data": {
            "text/plain": [
              "<Figure size 640x480 with 2 Axes>"
            ],
            "image/png": "[encoded data removed]"
          },
          "metadata": {}
        },
        {
          "output_type": "stream",
          "name": "stdout",
          "text": [
            "Classification Report:\n",
            "\n",
            "              precision    recall  f1-score   support\n",
            "\n",
            "           0       0.94      0.91      0.92       100\n",
            "           1       0.91      0.94      0.93       100\n",
            "\n",
            "    accuracy                           0.93       200\n",
            "   macro avg       0.93      0.93      0.92       200\n",
            "weighted avg       0.93      0.93      0.92       200\n",
            "\n"
          ]
        }
      ]
    }
  ]
}